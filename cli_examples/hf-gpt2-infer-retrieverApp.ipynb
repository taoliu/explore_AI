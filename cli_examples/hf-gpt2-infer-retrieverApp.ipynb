{
 "cells": [
  {
   "cell_type": "markdown",
   "id": "bc9bb255-30b7-4714-8ae1-e3001acf3969",
   "metadata": {},
   "source": [
    "# Infer using the trained GPT-2 adaptor\n",
    "\n",
    "\n",
    "## Preparation\n",
    "\n",
    "Import necessary libraries, clean GPU mem cache"
   ]
  },
  {
   "cell_type": "code",
   "execution_count": 1,
   "id": "a806e5ef",
   "metadata": {
    "tags": []
   },
   "outputs": [],
   "source": [
    "import torch\n",
    "from transformers import AutoTokenizer, AutoModelForCausalLM, pipeline\n",
    "\n",
    "torch.cuda.empty_cache()"
   ]
  },
  {
   "cell_type": "markdown",
   "id": "d1be8aa0-6c53-4098-b40e-6b3963901e4d",
   "metadata": {},
   "source": [
    "Next, define the device, and model/tokenizer ids."
   ]
  },
  {
   "cell_type": "code",
   "execution_count": 2,
   "id": "b30a4c49-e1c8-482e-bde5-fc496fce8b25",
   "metadata": {
    "tags": []
   },
   "outputs": [],
   "source": [
    "device = \"cuda\"\n",
    "model_id = \"gpt2\"\n",
    "tokenizer_id = \"gpt2\"\n",
    "peft_model_id = \"retrieverApp_adapter/gpt2-retrieverApp\""
   ]
  },
  {
   "cell_type": "markdown",
   "id": "271c9634-e892-496e-9eb7-c88079132404",
   "metadata": {},
   "source": [
    "Load the LLM into memory (large LLM may cause OOM)"
   ]
  },
  {
   "cell_type": "code",
   "execution_count": 3,
   "id": "dc80ab81-bf04-4eb6-8cde-835ab90abeaf",
   "metadata": {
    "tags": []
   },
   "outputs": [],
   "source": [
    "model = AutoModelForCausalLM.from_pretrained(\n",
    "        model_id,\n",
    "        device_map=device,\n",
    "        torch_dtype=\"auto\",\n",
    "        trust_remote_code=False,\n",
    "    )\n",
    "\n",
    "# and adaptor\n",
    "if peft_model_id:                         #not None\n",
    "    model.load_adapter(peft_model_id)\n",
    "\n",
    "\n",
    "tokenizer = AutoTokenizer.from_pretrained(tokenizer_id)\n",
    "\n",
    "terminators = [\n",
    "    tokenizer.eos_token_id,\n",
    "    tokenizer.convert_tokens_to_ids(\"<|endoftext|>\")]\n",
    "\n",
    "tokenizer.pad_token = tokenizer.eos_token\n"
   ]
  },
  {
   "cell_type": "markdown",
   "id": "f2b39ec5-6109-4b00-9f25-4b775e08db25",
   "metadata": {},
   "source": [
    "## Prompt\n",
    "\n",
    "Now let's prepare the prompt..."
   ]
  },
  {
   "cell_type": "code",
   "execution_count": 4,
   "id": "9100b890-089f-4a5e-afd3-7f512a28267e",
   "metadata": {
    "tags": []
   },
   "outputs": [],
   "source": [
    "messages = [\"Title: Gene expression profile at single cell level of bone marrow cells in 5TGM1 multiple myeloma mouse model of NEK2 deficiency. Summary: To determine how the lack of NEK2 in the tumor microenvironmental cells contributes to tumor inhibition and immune regulation, we used single cell RNA sequencing (scRNA-seq) to analyze the diversity of immune cells in the bone marrow of 5TGM1 MM mouse model with and without NEK2 deficiency. Overall design: Nek2 knockout mice had been backcrossed with C57BL/KaLwRij mice for 10 generations to allow for 5TGM1 MM cell growth. One million 5TGM1 MM cells were injected into the Nek2 wild-type and knockout mice via tail vein. Bone marrow cells were harvested on day 30 post-5TGM1 cell injection and processed for scRNA-seq analysis.. The data type is\",\n",
    "           \"Title: Single cell RNA sequencing of primary breast cancer. Summary: We performed single cell RNA sequencing (RNA-seq) for 549 primary breast cancer cells and lymph node metastases from 11 patients with distinct molecular subtypes (BC01-BC02, estrogen receptor positive (ER+); BC03, double positive (ER+ and HER2+); BC03LN, lymph node metastasis of BC03; BC04-BC06, human epidermal growth factor receptor 2 positive (HER2+); BC07-BC11, triple-negative breastcancer (TNBC); BC07LN, lymph node metastasis of BC07) and matched bulk tumors. We separated these single cells into epithelial tumorand tumor-infiltrating immune cells using inferred CNVs from RNA-seq. The refined single cell profiles for the tumor and immune cells provide key expression signatures of breast cancer and the surrounding microenvironment. Overall design: All single-cell mRNA expression profiles were acquired from eleven patients (BC01-BC11) including two lymph node metastases (BC03LN, BC07LN) (549 samples). We applied four filtering criteria so as to remove samples with low sequencing quality and finally obtained 515 single cell sequencing data. Matched bulk tumor tissues and/or pooled cells were also sequenced and analyzed by the single cell RNA-seq pipeline (14 samples). Bulk tumor transcriptomes showed significant correlations with the average of single cell transcriptomes.. The data type is\",\n",
    "           \"Title: Expression data of plasma cell from MGUS patients. Summary: Multiple myeloma is preceded by monoclonal gammopathy of undetermined significance (MGUS). Serum markers are currently used to stratify MGUS patients into clinical risk groups. A molecular signature predicting MGUS progression has not been produced. We have explored the use of gene expression profiling to risk-stratify MGUS and developed an optimized signature based on large samples with long-term follow-up. Microarray analysis of mRNA from MGUS patients with stable disease and MGUS patients that progressed to MM with in 10 years, was used to define a molecular signature of MGUS risk. Overall design: Bone marrow plasma cells from MGUS patients were enriched by anti-CD138 immunomagnetic beads for RNA extraction and hybridization on Affymetrix microarrays. We sought to identify genetic differences in the bone marrow plasma cells of stable and progressive MGUS patients. Patients who progressed to MM within 10 years after diagnosis of MGUS were considered Progressing (P), while the other 334 MGUS had not progressed called Stable (S).. The data type is\",\n",
    "           \"Title: Effect of NEK2 deficiency on gene expression of CD19-selected spleen B cells of Eµ-myc mouse model. Summary: NEK2 overexpression in the B cell lineage affects B cell development. To determine whether deficiency of NEK2 inhibits B cell malignancies, we crossed Nek2 knockout mice with Eµ-myc transgenic mice, a well-established Myc-driven preclinical model for B cell malignancies. Three genotyping offsprings were obtained: Eµ-myc/Nek2+/+ (NEK2 wild type), Eµ-myc/Nek2+/- (NEK2 heterozygotes), and Eµ-myc/Nek2-/- (NEK2 homozygotes). Bulk RNA-seq was performed on CD19-selected spleen B cells to view the transcriptome differences. Overall design: Comparative gene expression profiling analysis of RNA-seq data for CD19-selected spleen B cells from 6-8 weeks old Eµ-myc mice with indicated NEK2 deficiency.. The data type is\"]"
   ]
  },
  {
   "cell_type": "markdown",
   "id": "a0e6328b-cfe3-4ed0-a862-4c86fee9f367",
   "metadata": {
    "tags": []
   },
   "source": [
    "Infer ..."
   ]
  },
  {
   "cell_type": "code",
   "execution_count": 5,
   "id": "5e9ed36f-7b68-453a-bce0-a43e2492d0a5",
   "metadata": {
    "tags": []
   },
   "outputs": [
    {
     "name": "stderr",
     "output_type": "stream",
     "text": [
      "The attention mask is not set and cannot be inferred from input because pad token is same as eos token.As a consequence, you may observe unexpected behavior. Please pass your input's `attention_mask` to obtain reliable results.\n"
     ]
    },
    {
     "name": "stdout",
     "output_type": "stream",
     "text": [
      "1: \n",
      "2: \n",
      "3: \n",
      "4: \n"
     ]
    }
   ],
   "source": [
    "for i, message in enumerate(messages):\n",
    "    s = tokenizer(message, return_tensors=\"pt\")\n",
    "    input_ids = s.input_ids.to('cuda')\n",
    "    outputs = model.generate(input_ids, \n",
    "                             temperature = 0.1,\n",
    "                             do_sample = True,\n",
    "                             pad_token_id = tokenizer.pad_token_id,\n",
    "                             #bos_token_id = tokenizer.bos_token_id,\n",
    "                             eos_token_id = tokenizer.eos_token_id, \n",
    "                             max_new_tokens = 48)[0]\n",
    "    answer = tokenizer.decode(outputs, skip_special_tokens=True)[0][len(message)+1:]\n",
    "    print( \"%d: %s\" % (i+1, answer) )\n"
   ]
  },
  {
   "cell_type": "code",
   "execution_count": 6,
   "id": "9f89e42a-7914-4b8d-9f08-772f7a24934f",
   "metadata": {
    "tags": []
   },
   "outputs": [
    {
     "data": {
      "text/plain": [
       "'Title: Effect of NEK2 deficiency on gene expression of CD19-selected spleen B cells of Eµ-myc mouse model. Summary: NEK2 overexpression in the B cell lineage affects B cell development. To determine whether deficiency of NEK2 inhibits B cell malignancies, we crossed Nek2 knockout mice with Eµ-myc transgenic mice, a well-established Myc-driven preclinical model for B cell malignancies. Three genotyping offsprings were obtained: Eµ-myc/Nek2+/+ (NEK2 wild type), Eµ-myc/Nek2+/- (NEK2 heterozygotes), and Eµ-myc/Nek2-/- (NEK2 homozygotes). Bulk RNA-seq was performed on CD19-selected spleen B cells to view the transcriptome differences. Overall design: Comparative gene expression profiling analysis of RNA-seq data for CD19-selected spleen B cells from 6-8 weeks old Eµ-myc mice with indicated NEK2 deficiency.. The data type is: CD19-selected spleen B cells.'"
      ]
     },
     "execution_count": 6,
     "metadata": {},
     "output_type": "execute_result"
    }
   ],
   "source": [
    "tokenizer.decode(outputs, skip_special_tokens=True)"
   ]
  },
  {
   "cell_type": "code",
   "execution_count": null,
   "id": "e7e219d1-0e00-4fb0-b991-8b2871f2a440",
   "metadata": {},
   "outputs": [],
   "source": []
  }
 ],
 "metadata": {
  "kernelspec": {
   "display_name": "Python (jupyterlab)",
   "language": "python",
   "name": "jupyterlab"
  },
  "language_info": {
   "codemirror_mode": {
    "name": "ipython",
    "version": 3
   },
   "file_extension": ".py",
   "mimetype": "text/x-python",
   "name": "python",
   "nbconvert_exporter": "python",
   "pygments_lexer": "ipython3",
   "version": "3.11.9"
  }
 },
 "nbformat": 4,
 "nbformat_minor": 5
}
